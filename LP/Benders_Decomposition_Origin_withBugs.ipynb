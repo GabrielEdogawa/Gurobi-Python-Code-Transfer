{
 "cells": [
  {
   "cell_type": "code",
   "execution_count": 1,
   "metadata": {},
   "outputs": [],
   "source": [
    "from gurobipy import *\n",
    "import numpy as np\n",
    "import pandas as pd"
   ]
  },
  {
   "cell_type": "code",
   "execution_count": 2,
   "metadata": {},
   "outputs": [],
   "source": [
    "busfile = pd.read_csv(\"bus.csv\")\n",
    "genfile = pd.read_csv(\"gen.csv\")\n",
    "loadfile = pd.read_csv(\"load.csv\")\n",
    "resfile = pd.read_csv(\"res.csv\")\n",
    "PTDFfile = pd.read_csv(\"PTDF.csv\")\n",
    "linefile = pd.read_csv(\"line.csv\")\n",
    "\n",
    "genfile.set_index('genname', inplace = True)\n",
    "loadfile.set_index('hour', inplace = True)\n",
    "resfile.set_index('hour', inplace = True)\n",
    "PTDFfile.set_index('line', inplace = True)\n",
    "linefile.set_index(\"line\", inplace = True)\n",
    "\n",
    "loadfile['all'] = loadfile.sum(axis=1)"
   ]
  },
  {
   "cell_type": "code",
   "execution_count": 3,
   "metadata": {},
   "outputs": [
    {
     "name": "stdout",
     "output_type": "stream",
     "text": [
      "Using license file /Users/gabriel79/gurobi.lic\n",
      "Academic license - for non-commercial use only\n"
     ]
    }
   ],
   "source": [
    "OriginalProblem = Model(\"origin\")"
   ]
  },
  {
   "cell_type": "code",
   "execution_count": 4,
   "metadata": {},
   "outputs": [],
   "source": [
    "buslist = list(busfile.busname)\n",
    "linelist = list(PTDFfile.index)\n",
    "genlist = list(genfile.index)\n",
    "reslist = ['PV1']\n",
    "nonreslist = list(set(genlist) - set(reslist))\n",
    "hourlist = list(loadfile.index)"
   ]
  },
  {
   "cell_type": "code",
   "execution_count": 5,
   "metadata": {},
   "outputs": [],
   "source": [
    "Pgen = {}\n",
    "Pk1 = {}\n",
    "Pk2 = {}\n",
    "Pk3 = {}\n",
    "Pk4 = {}\n",
    "Igen = {}\n",
    "Ygen = {}\n",
    "Zgen = {}\n",
    "GenCost = {}\n",
    "for j in hourlist:\n",
    "    GenCost[j] = OriginalProblem.addVar(name = \"Generation Cost at hour \"+str(j+1))\n",
    "    for i in nonreslist:\n",
    "        Igen[i,j] = OriginalProblem.addVar(name = \"Commitment of \"+i+\" at hour \"+str(j+1), vtype = GRB.BINARY)\n",
    "        Ygen[i,j] = OriginalProblem.addVar(name = \"Start-up of \"+i+\" at hour \"+str(j+1), vtype = GRB.BINARY)\n",
    "        Zgen[i,j] = OriginalProblem.addVar(name = \"Shut-dn of \"+i+\" at hour \"+str(j+1), vtype = GRB.BINARY)\n",
    "        Pgen[i,j] = OriginalProblem.addVar(name = \"Power of \"+i+\" at hour \"+str(j+1), lb = genfile.loc[i,'Pmin'], ub = genfile.loc[i,'Pmax'])\n",
    "        Pk1[i,j] = OriginalProblem.addVar(name = \"Power Segment 1 of \"+i+\" at hour \"+str(j+1), lb = 0, ub = genfile.loc[i,'SP1'])\n",
    "        Pk2[i,j] = OriginalProblem.addVar(name = \"Power Segment 2 of \"+i+\" at hour \"+str(j+1), lb = 0, ub = genfile.loc[i,'SP2'] - genfile.loc[i,'SP1'])\n",
    "        Pk3[i,j] = OriginalProblem.addVar(name = \"Power Segment 3 of \"+i+\" at hour \"+str(j+1), lb = 0, ub = genfile.loc[i,'SP3'] - genfile.loc[i,'SP2'])\n",
    "        Pk4[i,j] = OriginalProblem.addVar(name = \"Power Segment 4 of \"+i+\" at hour \"+str(j+1), lb = 0, ub = genfile.loc[i,'SP4'] - genfile.loc[i,'SP3'])\n",
    "        \n",
    "    for i in reslist:\n",
    "        Pgen[i,j] = OriginalProblem.addVar(name = \"Power of \"+i+\" at hour \"+str(j+1), lb = genfile.loc[i,'Pmin'], ub = resfile.loc[j,i])\n",
    "        "
   ]
  },
  {
   "cell_type": "code",
   "execution_count": 6,
   "metadata": {},
   "outputs": [],
   "source": [
    "# Generator Constraints\n",
    "TSP = len(hourlist)\n",
    "for j in hourlist:\n",
    "    for i in nonreslist:\n",
    "        OriginalProblem.addConstr( Pgen[i,j] == Igen[i,j] * genfile.loc[i,'Pmin'] + \\\n",
    "                                   Pk1[i,j] + Pk2[i,j] + Pk3[i,j] + Pk4[i,j], 'Power Segment Summation')\n",
    "        OriginalProblem.addConstr( Ygen[i,j] + Zgen[i,j] <= 1 + 1e-3, \\\n",
    "                                   'Binary Exclusiveness Constraint for '+str(i)) \n",
    "        OriginalProblem.addConstr( Pgen[i,j] >= genfile.loc[i,'Pmin'] * Igen[i,j], \\\n",
    "                                   'Down Gen. Capacity Constraint for '+str(i)) \n",
    "        OriginalProblem.addConstr( Pgen[i,j] <= genfile.loc[i,'Pmax'] * Igen[i,j], \\\n",
    "                                   'Up Gen. Capacity Constraint for '+str(i)) \n",
    "        \n",
    "        if j == 1:\n",
    "            OriginalProblem.addConstr( Pgen[i,j] - genfile.loc[i,'IntPow'] <= genfile.loc[i,'RAMP_RATE'] * 60, \\\n",
    "                                    'Ramping Up Constraint for '+str(i))   \n",
    "            OriginalProblem.addConstr( Pgen[i,j] - genfile.loc[i,'IntPow'] >= -genfile.loc[i,'RAMP_RATE'] * 60, \\\n",
    "                                    'Ramping Down Constraint for '+str(i)) \n",
    "            OriginalProblem.addConstr( Ygen[i,j] - Zgen[i,j] == Igen[i,j] - genfile.loc[i,'Status'], \\\n",
    "                                    'Startup/Shutdn Commitment Constraint for '+str(i)) \n",
    "        else:\n",
    "            OriginalProblem.addConstr( Pgen[i,j] - Pgen[i,j-1] <= genfile.loc[i,'RAMP_RATE'] * 60, \\\n",
    "                                    'Ramping Up Constraint for '+str(i))\n",
    "            OriginalProblem.addConstr( Pgen[i,j] - Pgen[i,j-1] >= -genfile.loc[i,'RAMP_RATE'] * 60, \\\n",
    "                                    'Ramping Down Constraint for '+str(i))\n",
    "            OriginalProblem.addConstr( Ygen[i,j] - Zgen[i,j] == Igen[i,j] - Igen[i,j-1], \\\n",
    "                                    'Startup/Shutdn Commitment Constraint for '+str(i)) \n",
    "            \n",
    "        if genfile.loc[i,'minON'] < 1 + 1e-3:\n",
    "            continue\n",
    "            \n",
    "        if genfile.loc[i,'Status'] == 1 and genfile.loc[i,'minON'] > genfile.loc[i,'IntHour']:\n",
    "            if j < genfile.loc[i,'minON'] - genfile.loc[i,'IntHour']:\n",
    "                OriginalProblem.addConstr( Igen[i,j] == 1, \\\n",
    "                                          'Gen MinON/OFF Constraint') \n",
    "            elif j < TSP - genfile.loc[i,'minON'] + 1:\n",
    "                OriginalProblem.addConstr( quicksum(Igen[i,k] for k in range(j, TSP+1)) >= (TSP-j+1) * Ygen[i,j], \\\n",
    "                                          'Gen MinON/OFF Constraint')\n",
    "            else:\n",
    "                OriginalProblem.addConstr( quicksum(Igen[i,k] for k in range(j, j+int(genfile.loc[i,'minON']))) >= genfile.loc[i,'minON'] * Ygen[i,j], \\\n",
    "                                          'Gen MinON/OFF Constraint')            \n",
    "        elif genfile.loc[i,'Status'] == 1 and genfile.loc[i,'minON'] <= genfile.loc[i,'IntHour']:\n",
    "            if j > TSP-genfile.loc[i,'minON']+1:\n",
    "                OriginalProblem.addConstr( quicksum(Igen[i,k] for k in range(j, TSP+1)) >= (TSP-j+1) * Ygen[i,j], \\\n",
    "                                          'Gen MinON/OFF Constraint')\n",
    "            else:\n",
    "                OriginalProblem.addConstr( quicksum(Igen[i,k] for k in range(j, j+int(genfile.loc[i,'minON']))) >= genfile.loc[i,'minON'] * Ygen[i,j], \\\n",
    "                                          'Gen MinON/OFF Constraint') \n",
    "        elif genfile.loc[i,'Status'] == 0 and genfile.loc[i,'minOFF'] <= genfile.loc[i,'IntHour']:\n",
    "            if j > TSP-genfile.loc[i,'minON']+1:\n",
    "                OriginalProblem.addConstr( quicksum(Igen[i,k] for k in range(j, TSP+1)) >= (TSP-j+1) * Ygen[i,j], \\\n",
    "                                          'Gen MinON/OFF Constraint')\n",
    "            else:\n",
    "                OriginalProblem.addConstr( quicksum(Igen[i,k] for k in range(j, j+int(genfile.loc[i,'minON']))) >= genfile.loc[i,'minON'] * Ygen[i,j], \\\n",
    "                                          'Gen MinON/OFF Constraint')\n",
    "        elif genfile.loc[i,'Status'] == 0 and genfile.loc[i,'minOFF'] > genfile.loc[i,'IntHour']:\n",
    "            if j < genfile.loc[i,'minOFF'] - genfile.loc[i,'IntHour']:\n",
    "                OriginalProblem.addConstr( Igen[i,j] == 0, \\\n",
    "                                          'Gen MinON/OFF Constraint') \n",
    "            elif j > TSP - genfile.loc[i,'minON'] + 1:\n",
    "                OriginalProblem.addConstr( quicksum(Igen[i,k] for k in range(j, TSP+1)) >= (TSP-j+1) * Ygen[i,j], \\\n",
    "                                          'Gen MinON/OFF Constraint')\n",
    "            else:\n",
    "                OriginalProblem.addConstr( quicksum(Igen[i,k] for k in range(j, genfile.loc[i,'minON'])) >= genfile.loc[i,'minON'] * Ygen[i,j], \\\n",
    "                                          'Gen MinON/OFF Constraint')\n",
    "                \n",
    "        if genfile.loc[i,'minOFF'] < 1 + 1e-3:\n",
    "            continue\n",
    "            \n",
    "        if genfile.loc[i,'Status'] == 1 and genfile.loc[i,'minON'] > genfile.loc[i,'IntHour']:\n",
    "            if j < genfile.loc[i,'minON'] - genfile.loc[i,'IntHour']:\n",
    "                OriginalProblem.addConstr( Igen[i,j] == 1, \\\n",
    "                                          'Gen MinON/OFF Constraint') \n",
    "            elif j < TSP - genfile.loc[i,'minOFF'] + 1:\n",
    "                OriginalProblem.addConstr( quicksum(1 - Igen[i,k] for k in range(j, TSP+1)) >= (TSP-j+1) * Zgen[i,j], \\\n",
    "                                          'Gen MinON/OFF Constraint')\n",
    "            else:\n",
    "                OriginalProblem.addConstr( quicksum(1 - Igen[i,k] for k in range(j, j+int(genfile.loc[i,'minOFF']))) >= genfile.loc[i,'minOFF'] * Zgen[i,j], \\\n",
    "                                          'Gen MinON/OFF Constraint')            \n",
    "        elif genfile.loc[i,'Status'] == 1 and genfile.loc[i,'minON'] <= genfile.loc[i,'IntHour']:\n",
    "            if j > TSP-genfile.loc[i,'minOFF']+1:\n",
    "                OriginalProblem.addConstr( quicksum(1 - Igen[i,k] for k in range(j, TSP+1)) >= (TSP-j+1) * Zgen[i,j], \\\n",
    "                                          'Gen MinON/OFF Constraint')\n",
    "            else:\n",
    "                OriginalProblem.addConstr( quicksum(1 - Igen[i,k] for k in range(j, j+int(genfile.loc[i,'minOFF']))) >= genfile.loc[i,'minOFF'] * Zgen[i,j], \\\n",
    "                                          'Gen MinON/OFF Constraint')\n",
    "        elif genfile.loc[i,'Status'] == 0 and genfile.loc[i,'minOFF'] <= genfile.loc[i,'IntHour']:\n",
    "            if j > TSP-genfile.loc[i,'minOFF']+1:\n",
    "                OriginalProblem.addConstr( quicksum(1 - Igen[i,k] for k in range(j, TSP+1)) >= (TSP-j+1) * Zgen[i,j], \\\n",
    "                                          'Gen MinON/OFF Constraint')\n",
    "            else:\n",
    "                OriginalProblem.addConstr( quicksum(1 - Igen[i,k] for k in range(j, j+int(genfile.loc[i,'minOFF']))) >= genfile.loc[i,'minOFF'] * Zgen[i,j], \\\n",
    "                                          'Gen MinON/OFF Constraint')\n",
    "        elif genfile.loc[i,'Status'] == 0 and genfile.loc[i,'minOFF'] > genfile.loc[i,'IntHour']:\n",
    "            if j < genfile.loc[i,'minOFF'] - genfile.loc[i,'IntHour']:\n",
    "                OriginalProblem.addConstr( Igen[i,j] == 0, \\\n",
    "                                          'Gen MinON/OFF Constraint') \n",
    "            elif j > TSP - genfile.loc[i,'minOFF'] + 1:\n",
    "                OriginalProblem.addConstr( quicksum(1 - Igen[i,k] for k in range(j, TSP+1)) >= (TSP-j+1) * Zgen[i,j], \\\n",
    "                                          'Gen MinON/OFF Constraint')\n",
    "            else:\n",
    "                OriginalProblem.addConstr( quicksum(1 - Igen[i,k] for k in range(j, j+int(genfile.loc[i,'minOFF']))) >= genfile.loc[i,'minOFF'] * Zgen[i,j], \\\n",
    "                                          'Gen MinON/OFF Constraint')  \n"
   ]
  },
  {
   "cell_type": "code",
   "execution_count": 7,
   "metadata": {},
   "outputs": [],
   "source": [
    "for j in hourlist:\n",
    "    OriginalProblem.addConstr( GenCost[j] == quicksum(Ygen[i,j] * genfile.loc[i,'SUCost'] \\\n",
    "                                          + Zgen[i,j] * genfile.loc[i,'SDCost'] \\\n",
    "                                          + Igen[i,j] * genfile.loc[i,'NOLOADCOST'] * genfile.loc[i,'Pmin'] \\\n",
    "                                          + Pk1[i,j] * genfile.loc[i,'k1'] + Pk2[i,j] * genfile.loc[i,'k2'] \\\n",
    "                                          + Pk3[i,j] * genfile.loc[i,'k3'] + Pk4[i,j] * genfile.loc[i,'k4'] for i in nonreslist), \\\n",
    "                                       'Generation Cost Constraint')\n",
    "    \n",
    "    OriginalProblem.addConstr( quicksum(Pgen[g,j] for g in genlist) == loadfile.loc[j,'all'], \\\n",
    "                                'Power Balance Constraint') \n",
    "    \n",
    "    for i in linelist:\n",
    "        OriginalProblem.addConstr( quicksum(PTDFfile.loc[i,genfile.loc[g,'busname']] * Pgen[g,j] for g in genlist) \\\n",
    "                                  - quicksum(PTDFfile.loc[i,d] * loadfile.loc[j,d] for d in buslist) <= linefile.loc[i,'FlowLim'], \\\n",
    "                                          'DC Power Flow Constraint') \n",
    "        OriginalProblem.addConstr( quicksum(PTDFfile.loc[i,genfile.loc[g,'busname']] * Pgen[g,j] for g in genlist) \\\n",
    "                                  - quicksum(PTDFfile.loc[i,d] * loadfile.loc[j,d] for d in buslist) >= -linefile.loc[i,'FlowLim'], \\\n",
    "                                          'DC Power Flow Constraint')  \n",
    "        "
   ]
  },
  {
   "cell_type": "code",
   "execution_count": 8,
   "metadata": {},
   "outputs": [],
   "source": [
    "OriginalProblem.setObjective( quicksum(GenCost[j] for j in hourlist), GRB.MINIMIZE)"
   ]
  },
  {
   "cell_type": "code",
   "execution_count": 9,
   "metadata": {},
   "outputs": [
    {
     "name": "stdout",
     "output_type": "stream",
     "text": [
      "Changed value of parameter Threads to 8\n",
      "   Prev: 0  Min: 0  Max: 1024  Default: 0\n",
      "Gurobi Optimizer version 9.0.1 build v9.0.1rc0 (mac64)\n",
      "Optimize a model with 2064 rows, 816 columns and 7974 nonzeros\n",
      "Model fingerprint: 0x20f71d78\n",
      "Variable types: 528 continuous, 288 integer (288 binary)\n",
      "Coefficient statistics:\n",
      "  Matrix range     [5e-03, 6e+03]\n",
      "  Objective range  [1e+00, 1e+00]\n",
      "  Bounds range     [1e+00, 1e+03]\n",
      "  RHS range        [1e+00, 4e+03]\n",
      "Found heuristic solution: objective 559498.56978\n",
      "Presolve removed 1921 rows and 711 columns\n",
      "Presolve time: 0.00s\n",
      "Presolved: 143 rows, 105 columns, 413 nonzeros\n",
      "Variable types: 105 continuous, 0 integer (0 binary)\n",
      "\n",
      "Root relaxation: objective 4.390364e+05, 36 iterations, 0.00 seconds\n",
      "\n",
      "    Nodes    |    Current Node    |     Objective Bounds      |     Work\n",
      " Expl Unexpl |  Obj  Depth IntInf | Incumbent    BestBd   Gap | It/Node Time\n",
      "\n",
      "*    0     0               0    439036.42741 439036.427  0.00%     -    0s\n",
      "\n",
      "Explored 0 nodes (36 simplex iterations) in 0.02 seconds\n",
      "Thread count was 8 (of 8 available processors)\n",
      "\n",
      "Solution count 1: 439036 \n",
      "\n",
      "Optimal solution found (tolerance 1.00e-04)\n",
      "Best objective 4.390364274111e+05, best bound 4.390364274111e+05, gap 0.0000%\n"
     ]
    }
   ],
   "source": [
    "OriginalProblem.update()\n",
    "\n",
    "OriginalProblem.setParam(GRB.Param.Threads, 8)\n",
    "OriginalProblem.optimize()"
   ]
  },
  {
   "cell_type": "code",
   "execution_count": 10,
   "metadata": {},
   "outputs": [],
   "source": [
    "if OriginalProblem.status == GRB.Status.OPTIMAL:\n",
    "    solution = OriginalProblem.getAttr('x', Pgen)"
   ]
  },
  {
   "cell_type": "code",
   "execution_count": 11,
   "metadata": {},
   "outputs": [
    {
     "name": "stdout",
     "output_type": "stream",
     "text": [
      "300.0\n",
      "300.0\n",
      "300.0\n",
      "300.0\n",
      "300.0\n",
      "300.0\n",
      "300.0\n",
      "300.0\n",
      "300.0\n",
      "300.0\n",
      "300.0\n",
      "300.0\n",
      "300.0\n",
      "300.0\n",
      "300.0\n",
      "300.0\n",
      "300.0\n",
      "300.0\n",
      "300.0\n",
      "300.0\n",
      "300.0\n",
      "300.0\n",
      "300.0\n",
      "300.0\n",
      "\n",
      "\n",
      "\n",
      "434.6338085921911\n",
      "411.56711119117386\n",
      "396.8186459489095\n",
      "397.16082825175073\n",
      "423.17561252797145\n",
      "492.8437059238865\n",
      "519.7551801356458\n",
      "580.8696479221891\n",
      "622.2718103404039\n",
      "654.0904453069732\n",
      "665.8339206518808\n",
      "655.5073497806301\n",
      "640.9801350292888\n",
      "624.8490520989806\n",
      "598.8911709057827\n",
      "591.3093028692986\n",
      "624.5602303226206\n",
      "735.6537065014529\n",
      "866.2843819832821\n",
      "841.7376529126883\n",
      "775.3064316169086\n",
      "681.6797992103233\n",
      "570.3606119473772\n",
      "473.77944878824565\n",
      "\n",
      "\n",
      "\n",
      "172.1839614078089\n",
      "149.461196808826\n",
      "134.93235405109044\n",
      "135.26994074824933\n",
      "175.09192447202824\n",
      "286.3057560761138\n",
      "50.0\n",
      "50.0\n",
      "50.0\n",
      "50.0\n",
      "50.0\n",
      "50.0\n",
      "50.0\n",
      "50.0\n",
      "50.0\n",
      "50.0\n",
      "50.0\n",
      "50.0\n",
      "562.8762393167187\n",
      "587.4094230873117\n",
      "507.7740303830916\n",
      "415.544278789677\n",
      "305.8857720526229\n",
      "210.74521921175432\n",
      "\n",
      "\n",
      "\n",
      "1200.0\n",
      "1200.0\n",
      "1200.0\n",
      "1200.0\n",
      "1180.0\n",
      "1120.0\n",
      "1060.0\n",
      "1000.0\n",
      "1000.0\n",
      "1000.0\n",
      "1000.0\n",
      "1000.0\n",
      "1000.0\n",
      "1000.0\n",
      "1000.0\n",
      "1000.0\n",
      "1000.0\n",
      "1060.0\n",
      "1120.0\n",
      "1180.0\n",
      "1200.0\n",
      "1200.0\n",
      "1200.0\n",
      "1200.0\n",
      "\n",
      "\n",
      "\n",
      "0.0\n",
      "0.0\n",
      "0.0\n",
      "0.0\n",
      "0.0\n",
      "0.0\n",
      "430.2913578643543\n",
      "575.1125050778109\n",
      "632.5753426595957\n",
      "676.7369396930263\n",
      "693.0362313481187\n",
      "678.7031112193699\n",
      "658.540555970711\n",
      "636.1520259010197\n",
      "600.1248290942171\n",
      "589.6019281307016\n",
      "635.7514616773796\n",
      "729.939987498547\n",
      "128.6346077\n",
      "0.0\n",
      "0.0\n",
      "0.0\n",
      "0.0\n",
      "0.0\n",
      "\n",
      "\n",
      "\n"
     ]
    }
   ],
   "source": [
    "for g in genlist:\n",
    "    for h in hourlist:\n",
    "        print(solution[g,h])\n",
    "        \n",
    "    print('\\n\\n')"
   ]
  },
  {
   "cell_type": "code",
   "execution_count": 2,
   "metadata": {},
   "outputs": [],
   "source": [
    "# First we run the original problem as an ordinary MILP problem and solve directly by Gurobi.\n",
    "# Test Instance: 6-bus Power Market's Unit Commitment (6BUC)\n",
    "\n",
    "class Create_UC_Problem:\n",
    "    \n",
    "    def __init__(self, directory, genfile, linefile, loadfile, busfile, resfile, PTDFfile, ProblemName):\n",
    "        \n",
    "        self.genfile = pd.read_csv(directory + genfile)\n",
    "        self.linefile = pd.read_csv(directory + linefile)\n",
    "        self.loadfile = pd.read_csv(directory + loadfile)\n",
    "        self.busfile = pd.read_csv(directory + busfile)\n",
    "        self.resfile = pd.read_csv(directory + resfile)\n",
    "        self.PTDFfile = pd.read_csv(directory + PTDFfile)\n",
    "        self.ProblemName = ProblemName\n",
    "\n",
    "        self.genfile.set_index('genname', inplace = True)\n",
    "        self.loadfile.set_index('hour', inplace = True)\n",
    "        self.resfile.set_index('hour', inplace = True)\n",
    "        self.PTDFfile.set_index('line', inplace = True)\n",
    "        self.linefile.set_index(\"line\", inplace = True)\n",
    "        \n",
    "    def create_instance(self):\n",
    "        \n",
    "        buslist = list(self.busfile.busname)\n",
    "        linelist = list(self.PTDFfile.index)\n",
    "        genlist = list(self.genfile.index)\n",
    "        reslist = ['PV1']\n",
    "        nonreslist = list(set(genlist) - set(reslist))\n",
    "        hourlist = list(self.loadfile.index)\n",
    "        \n",
    "        self.loadfile['all'] = self.loadfile.sum(axis=1)\n",
    "        \n",
    "        OriginalProblem = Model(self.ProblemName)\n",
    "        \n",
    "        Pgen = {}\n",
    "        Pk1 = {}\n",
    "        Pk2 = {}\n",
    "        Pk3 = {}\n",
    "        Pk4 = {}\n",
    "        Igen = {}\n",
    "        Ygen = {}\n",
    "        Zgen = {}\n",
    "        GenCost = {}\n",
    "        for j in hourlist:\n",
    "            GenCost[j] = OriginalProblem.addVar(name = \"Generation Cost at hour \"+str(j+1))\n",
    "            for i in nonreslist:\n",
    "                Igen[i,j] = OriginalProblem.addVar(name = \"Commitment of \"+i+\" at hour \"+str(j+1), vtype = GRB.BINARY)\n",
    "                Ygen[i,j] = OriginalProblem.addVar(name = \"Start-up of \"+i+\" at hour \"+str(j+1), vtype = GRB.BINARY)\n",
    "                Zgen[i,j] = OriginalProblem.addVar(name = \"Shut-dn of \"+i+\" at hour \"+str(j+1), vtype = GRB.BINARY)\n",
    "                Pgen[i,j] = OriginalProblem.addVar(name = \"Power of \"+i+\" at hour \"+str(j+1), lb = self.genfile.loc[i,'Pmin'], ub = self.genfile.loc[i,'Pmax'])\n",
    "                Pk1[i,j] = OriginalProblem.addVar(name = \"Power Segment 1 of \"+i+\" at hour \"+str(j+1), lb = 0, ub = self.genfile.loc[i,'SP1'])\n",
    "                Pk2[i,j] = OriginalProblem.addVar(name = \"Power Segment 2 of \"+i+\" at hour \"+str(j+1), lb = 0, ub = self.genfile.loc[i,'SP2'] - self.genfile.loc[i,'SP1'])\n",
    "                Pk3[i,j] = OriginalProblem.addVar(name = \"Power Segment 3 of \"+i+\" at hour \"+str(j+1), lb = 0, ub = self.genfile.loc[i,'SP3'] - self.genfile.loc[i,'SP2'])\n",
    "                Pk4[i,j] = OriginalProblem.addVar(name = \"Power Segment 4 of \"+i+\" at hour \"+str(j+1), lb = 0, ub = self.genfile.loc[i,'SP4'] - self.genfile.loc[i,'SP3'])\n",
    "        \n",
    "            for i in reslist:\n",
    "                Pgen[i,j] = OriginalProblem.addVar(name = \"Power of \"+i+\" at hour \"+str(j+1), lb = self.genfile.loc[i,'Pmin'], ub = self.resfile.loc[j,i])\n",
    "        \n",
    "        \n",
    "        TSP = len(hourlist)\n",
    "        for j in hourlist:\n",
    "            for i in nonreslist:\n",
    "                OriginalProblem.addConstr( Pgen[i,j] == Igen[i,j] * self.genfile.loc[i,'Pmin'] + \\\n",
    "                                   Pk1[i,j] + Pk2[i,j] + Pk3[i,j] + Pk4[i,j], 'Power Segment Summation')\n",
    "                OriginalProblem.addConstr( Ygen[i,j] + Zgen[i,j] <= 1 + 1e-3, \\\n",
    "                                   'Binary Exclusiveness Constraint for '+str(i)) \n",
    "                OriginalProblem.addConstr( Pgen[i,j] >= self.genfile.loc[i,'Pmin'] * Igen[i,j], \\\n",
    "                                   'Down Gen. Capacity Constraint for '+str(i)) \n",
    "                OriginalProblem.addConstr( Pgen[i,j] <= self.genfile.loc[i,'Pmax'] * Igen[i,j], \\\n",
    "                                   'Up Gen. Capacity Constraint for '+str(i)) \n",
    "        \n",
    "            if j == 1:\n",
    "                OriginalProblem.addConstr( Pgen[i,j] - self.genfile.loc[i,'IntPow'] <= self.genfile.loc[i,'RAMP_RATE'] * 60, \\\n",
    "                                    'Ramping Up Constraint for '+str(i))   \n",
    "                OriginalProblem.addConstr( Pgen[i,j] - self.genfile.loc[i,'IntPow'] >= -self.genfile.loc[i,'RAMP_RATE'] * 60, \\\n",
    "                                    'Ramping Down Constraint for '+str(i)) \n",
    "                OriginalProblem.addConstr( Ygen[i,j] - Zgen[i,j] == Igen[i,j] - self.genfile.loc[i,'Status'], \\\n",
    "                                    'Startup/Shutdn Commitment Constraint for '+str(i)) \n",
    "            else:\n",
    "                OriginalProblem.addConstr( Pgen[i,j] - Pgen[i,j-1] <= self.genfile.loc[i,'RAMP_RATE'] * 60, \\\n",
    "                                    'Ramping Up Constraint for '+str(i))\n",
    "                OriginalProblem.addConstr( Pgen[i,j] - Pgen[i,j-1] >= -self.genfile.loc[i,'RAMP_RATE'] * 60, \\\n",
    "                                    'Ramping Down Constraint for '+str(i))\n",
    "                OriginalProblem.addConstr( Ygen[i,j] - Zgen[i,j] == Igen[i,j] - Igen[i,j-1], \\\n",
    "                                    'Startup/Shutdn Commitment Constraint for '+str(i)) \n",
    "            \n",
    "            if self.genfile.loc[i,'minON'] < 1 + 1e-3:\n",
    "                continue\n",
    "            \n",
    "            if self.genfile.loc[i,'Status'] == 1 and self.genfile.loc[i,'minON'] > self.genfile.loc[i,'IntHour']:\n",
    "                if j < self.genfile.loc[i,'minON'] - self.genfile.loc[i,'IntHour']:\n",
    "                    OriginalProblem.addConstr( Igen[i,j] == 1, \\\n",
    "                                          'Gen MinON/OFF Constraint') \n",
    "                elif j < TSP - self.genfile.loc[i,'minON'] + 1:\n",
    "                    OriginalProblem.addConstr( quicksum(Igen[i,k] for k in range(j, TSP+1)) >= (TSP-j+1) * Ygen[i,j], \\\n",
    "                                          'Gen MinON/OFF Constraint')\n",
    "                else:\n",
    "                    OriginalProblem.addConstr( quicksum(Igen[i,k] for k in range(j, j+int(self.genfile.loc[i,'minON']))) >= gself.enfile.loc[i,'minON'] * Ygen[i,j], \\\n",
    "                                          'Gen MinON/OFF Constraint')            \n",
    "            elif self.genfile.loc[i,'Status'] == 1 and self.genfile.loc[i,'minON'] <= self.genfile.loc[i,'IntHour']:\n",
    "                if j > TSP-self.genfile.loc[i,'minON']+1:\n",
    "                    OriginalProblem.addConstr( quicksum(Igen[i,k] for k in range(j, TSP+1)) >= (TSP-j+1) * Ygen[i,j], \\\n",
    "                                          'Gen MinON/OFF Constraint')\n",
    "                else:\n",
    "                    OriginalProblem.addConstr( quicksum(Igen[i,k] for k in range(j, j+int(self.genfile.loc[i,'minON']))) >= self.genfile.loc[i,'minON'] * Ygen[i,j], \\\n",
    "                                          'Gen MinON/OFF Constraint') \n",
    "            elif self.genfile.loc[i,'Status'] == 0 and self.genfile.loc[i,'minOFF'] <= self.genfile.loc[i,'IntHour']:\n",
    "                if j > TSP-self.genfile.loc[i,'minON']+1:\n",
    "                    OriginalProblem.addConstr( quicksum(Igen[i,k] for k in range(j, TSP+1)) >= (TSP-j+1) * Ygen[i,j], \\\n",
    "                                          'Gen MinON/OFF Constraint')\n",
    "                else:\n",
    "                    OriginalProblem.addConstr( quicksum(Igen[i,k] for k in range(j, j+int(self.genfile.loc[i,'minON']))) >= self.genfile.loc[i,'minON'] * Ygen[i,j], \\\n",
    "                                          'Gen MinON/OFF Constraint')\n",
    "            elif self.genfile.loc[i,'Status'] == 0 and self.genfile.loc[i,'minOFF'] > self.genfile.loc[i,'IntHour']:\n",
    "                if j < self.genfile.loc[i,'minOFF'] - self.genfile.loc[i,'IntHour']:\n",
    "                    OriginalProblem.addConstr( Igen[i,j] == 0, \\\n",
    "                                          'Gen MinON/OFF Constraint') \n",
    "                elif j > TSP - self.genfile.loc[i,'minON'] + 1:\n",
    "                    OriginalProblem.addConstr( quicksum(Igen[i,k] for k in range(j, TSP+1)) >= (TSP-j+1) * Ygen[i,j], \\\n",
    "                                          'Gen MinON/OFF Constraint')\n",
    "                else:\n",
    "                    OriginalProblem.addConstr( quicksum(Igen[i,k] for k in range(j, self.genfile.loc[i,'minON'])) >= self.genfile.loc[i,'minON'] * Ygen[i,j], \\\n",
    "                                          'Gen MinON/OFF Constraint')\n",
    "                \n",
    "            if self.genfile.loc[i,'minOFF'] < 1 + 1e-3:\n",
    "                continue\n",
    "            \n",
    "            if self.genfile.loc[i,'Status'] == 1 and self.genfile.loc[i,'minON'] > self.genfile.loc[i,'IntHour']:\n",
    "                if j < self.genfile.loc[i,'minON'] - self.genfile.loc[i,'IntHour']:\n",
    "                    OriginalProblem.addConstr( Igen[i,j] == 1, \\\n",
    "                                          'Gen MinON/OFF Constraint') \n",
    "                elif j < TSP - self.genfile.loc[i,'minOFF'] + 1:\n",
    "                    OriginalProblem.addConstr( quicksum(1 - Igen[i,k] for k in range(j, TSP+1)) >= (TSP-j+1) * Zgen[i,j], \\\n",
    "                                          'Gen MinON/OFF Constraint')\n",
    "                else:\n",
    "                    OriginalProblem.addConstr( quicksum(1 - Igen[i,k] for k in range(j, j+int(self.genfile.loc[i,'minOFF']))) >= self.genfile.loc[i,'minOFF'] * Zgen[i,j], \\\n",
    "                                          'Gen MinON/OFF Constraint')            \n",
    "            elif self.genfile.loc[i,'Status'] == 1 and self.genfile.loc[i,'minON'] <= self.genfile.loc[i,'IntHour']:\n",
    "                if j > TSP-self.genfile.loc[i,'minOFF']+1:\n",
    "                    OriginalProblem.addConstr( quicksum(1 - Igen[i,k] for k in range(j, TSP+1)) >= (TSP-j+1) * Zgen[i,j], \\\n",
    "                                          'Gen MinON/OFF Constraint')\n",
    "                else:\n",
    "                    OriginalProblem.addConstr( quicksum(1 - Igen[i,k] for k in range(j, j+int(self.genfile.loc[i,'minOFF']))) >= self.genfile.loc[i,'minOFF'] * Zgen[i,j], \\\n",
    "                                          'Gen MinON/OFF Constraint')\n",
    "            elif self.genfile.loc[i,'Status'] == 0 and self.genfile.loc[i,'minOFF'] <= self.genfile.loc[i,'IntHour']:\n",
    "                if j > TSP-genfile.loc[i,'minOFF']+1:\n",
    "                    OriginalProblem.addConstr( quicksum(1 - Igen[i,k] for k in range(j, TSP+1)) >= (TSP-j+1) * Zgen[i,j], \\\n",
    "                                          'Gen MinON/OFF Constraint')\n",
    "                else:\n",
    "                    OriginalProblem.addConstr( quicksum(1 - Igen[i,k] for k in range(j, j+int(self.genfile.loc[i,'minOFF']))) >= self.genfile.loc[i,'minOFF'] * Zgen[i,j], \\\n",
    "                                          'Gen MinON/OFF Constraint')\n",
    "            elif self.genfile.loc[i,'Status'] == 0 and self.genfile.loc[i,'minOFF'] > self.genfile.loc[i,'IntHour']:\n",
    "                if j < self.genfile.loc[i,'minOFF'] - self.genfile.loc[i,'IntHour']:\n",
    "                    OriginalProblem.addConstr( Igen[i,j] == 0, \\\n",
    "                                          'Gen MinON/OFF Constraint') \n",
    "                elif j > TSP - self.genfile.loc[i,'minOFF'] + 1:\n",
    "                    OriginalProblem.addConstr( quicksum(1 - Igen[i,k] for k in range(j, TSP+1)) >= (TSP-j+1) * Zgen[i,j], \\\n",
    "                                          'Gen MinON/OFF Constraint')\n",
    "                else:\n",
    "                    OriginalProblem.addConstr( quicksum(1 - Igen[i,k] for k in range(j, j+int(self.genfile.loc[i,'minOFF']))) >= self.genfile.loc[i,'minOFF'] * Zgen[i,j], \\\n",
    "                                          'Gen MinON/OFF Constraint')  \n",
    "\n",
    "        for j in hourlist:\n",
    "            OriginalProblem.addConstr( GenCost[j] == quicksum(Ygen[i,j] * self.genfile.loc[i,'SUCost'] \\\n",
    "                                          + Zgen[i,j] * self.genfile.loc[i,'SDCost'] \\\n",
    "                                          + Igen[i,j] * self.genfile.loc[i,'NOLOADCOST'] * self.genfile.loc[i,'Pmin'] \\\n",
    "                                          + Pk1[i,j] * self.genfile.loc[i,'k1'] + Pk2[i,j] * self.genfile.loc[i,'k2'] \\\n",
    "                                          + Pk3[i,j] * self.genfile.loc[i,'k3'] + Pk4[i,j] * self.genfile.loc[i,'k4'] for i in nonreslist), \\\n",
    "                                       'Generation Cost Constraint')\n",
    "    \n",
    "            OriginalProblem.addConstr( quicksum(Pgen[g,j] for g in genlist) == self.loadfile.loc[j,'all'], \\\n",
    "                                'Power Balance Constraint') \n",
    "    \n",
    "            for i in linelist:\n",
    "                OriginalProblem.addConstr( quicksum(self.PTDFfile.loc[i,self.genfile.loc[g,'busname']] * Pgen[g,j] for g in genlist) \\\n",
    "                                  - quicksum(self.PTDFfile.loc[i,d] * self.loadfile.loc[j,d] for d in buslist) <= self.linefile.loc[i,'FlowLim'], \\\n",
    "                                          'DC Power Flow Constraint') \n",
    "                OriginalProblem.addConstr( quicksum(self.PTDFfile.loc[i,self.genfile.loc[g,'busname']] * Pgen[g,j] for g in genlist) \\\n",
    "                                  - quicksum(self.PTDFfile.loc[i,d] * self.loadfile.loc[j,d] for d in buslist) >= -self.linefile.loc[i,'FlowLim'], \\\n",
    "                                          'DC Power Flow Constraint')  \n",
    "        \n",
    "        OriginalProblem.setObjective( quicksum(GenCost[j] for j in hourlist), GRB.MINIMIZE)\n",
    "        \n",
    "        OriginalProblem.update()\n",
    "        \n",
    "        return OriginalProblem"
   ]
  },
  {
   "cell_type": "code",
   "execution_count": 3,
   "metadata": {},
   "outputs": [
    {
     "name": "stdout",
     "output_type": "stream",
     "text": [
      "Academic license - for non-commercial use only\n"
     ]
    }
   ],
   "source": [
    "LPModel = Create_UC_Problem(\"\", \"gen.csv\", \"line.csv\", \"load.csv\", \"bus.csv\", \"res.csv\", \"PTDF.csv\", \"Origin\").create_instance()"
   ]
  },
  {
   "cell_type": "code",
   "execution_count": 4,
   "metadata": {},
   "outputs": [
    {
     "data": {
      "text/plain": [
       "<gurobi.Model MIP instance Origin: 1752 constrs, 816 vars, Parameter changes: LogFile=gurobi.log, CSIdleTimeout=1800>"
      ]
     },
     "execution_count": 4,
     "metadata": {},
     "output_type": "execute_result"
    }
   ],
   "source": [
    "LPModel"
   ]
  },
  {
   "cell_type": "code",
   "execution_count": 4,
   "metadata": {},
   "outputs": [
    {
     "name": "stdout",
     "output_type": "stream",
     "text": [
      "Changed value of parameter Threads to 8\n",
      "   Prev: 0  Min: 0  Max: 1024  Default: 0\n",
      "Optimize a model with 1752 rows, 816 columns and 6573 nonzeros\n",
      "Variable types: 528 continuous, 288 integer (288 binary)\n",
      "Coefficient statistics:\n",
      "  Matrix range     [5e-03, 6e+03]\n",
      "  Objective range  [1e+00, 1e+00]\n",
      "  Bounds range     [1e+00, 1e+03]\n",
      "  RHS range        [1e+00, 4e+03]\n",
      "Found heuristic solution: objective 537821.87671\n",
      "Presolve removed 1748 rows and 811 columns\n",
      "Presolve time: 0.00s\n",
      "Presolved: 4 rows, 5 columns, 17 nonzeros\n",
      "Found heuristic solution: objective 447012.41407\n",
      "Variable types: 5 continuous, 0 integer (0 binary)\n",
      "\n",
      "Root relaxation: objective 4.385142e+05, 2 iterations, 0.00 seconds\n",
      "\n",
      "    Nodes    |    Current Node    |     Objective Bounds      |     Work\n",
      " Expl Unexpl |  Obj  Depth IntInf | Incumbent    BestBd   Gap | It/Node Time\n",
      "\n",
      "*    0     0               0    438514.24749 438514.247  0.00%     -    0s\n",
      "\n",
      "Explored 0 nodes (2 simplex iterations) in 0.02 seconds\n",
      "Thread count was 8 (of 8 available processors)\n",
      "\n",
      "Solution count 2: 438514 447012 \n",
      "\n",
      "Optimal solution found (tolerance 1.00e-04)\n",
      "Best objective 4.385142474902e+05, best bound 4.385142474902e+05, gap 0.0000%\n"
     ]
    }
   ],
   "source": [
    "LPModel.setParam(GRB.Param.Threads, 8)\n",
    "LPModel.optimize()"
   ]
  },
  {
   "cell_type": "code",
   "execution_count": 7,
   "metadata": {},
   "outputs": [],
   "source": [
    "class Animal(object):\n",
    "    def run(self):\n",
    "        print('running...')\n",
    "\n",
    "class Dog(Animal):\n",
    "    def run(self):\n",
    "        print(\"Dog running...\")\n",
    "\n",
    "class Cat(Animal):\n",
    "    def run(self):\n",
    "        print(\"Cat running...\")"
   ]
  },
  {
   "cell_type": "code",
   "execution_count": 10,
   "metadata": {},
   "outputs": [],
   "source": [
    "dog1 = Animal()"
   ]
  },
  {
   "cell_type": "code",
   "execution_count": 11,
   "metadata": {},
   "outputs": [
    {
     "name": "stdout",
     "output_type": "stream",
     "text": [
      "running...\n"
     ]
    }
   ],
   "source": [
    "dog1.run()"
   ]
  },
  {
   "cell_type": "code",
   "execution_count": 12,
   "metadata": {},
   "outputs": [],
   "source": [
    "def run_twice(animal):\n",
    "    animal.run()\n",
    "    animal.run()"
   ]
  },
  {
   "cell_type": "code",
   "execution_count": 13,
   "metadata": {},
   "outputs": [
    {
     "name": "stdout",
     "output_type": "stream",
     "text": [
      "running...\n",
      "running...\n"
     ]
    }
   ],
   "source": [
    "run_twice(Animal())"
   ]
  },
  {
   "cell_type": "code",
   "execution_count": 14,
   "metadata": {},
   "outputs": [
    {
     "name": "stdout",
     "output_type": "stream",
     "text": [
      "Dog running...\n",
      "Dog running...\n"
     ]
    }
   ],
   "source": [
    "run_twice(Dog())"
   ]
  },
  {
   "cell_type": "code",
   "execution_count": 15,
   "metadata": {},
   "outputs": [],
   "source": [
    "class Tortoise(Animal):\n",
    "    pass"
   ]
  },
  {
   "cell_type": "code",
   "execution_count": 16,
   "metadata": {},
   "outputs": [
    {
     "name": "stdout",
     "output_type": "stream",
     "text": [
      "running...\n",
      "running...\n"
     ]
    }
   ],
   "source": [
    "run_twice(Tortoise())"
   ]
  },
  {
   "cell_type": "code",
   "execution_count": 21,
   "metadata": {},
   "outputs": [
    {
     "data": {
      "text/plain": [
       "__main__.Dog"
      ]
     },
     "execution_count": 21,
     "metadata": {},
     "output_type": "execute_result"
    }
   ],
   "source": [
    "type(Dog())"
   ]
  },
  {
   "cell_type": "code",
   "execution_count": 22,
   "metadata": {},
   "outputs": [
    {
     "data": {
      "text/plain": [
       "3"
      ]
     },
     "execution_count": 22,
     "metadata": {},
     "output_type": "execute_result"
    }
   ],
   "source": [
    "'ABC'.__len__()"
   ]
  },
  {
   "cell_type": "code",
   "execution_count": null,
   "metadata": {},
   "outputs": [],
   "source": []
  }
 ],
 "metadata": {
  "kernelspec": {
   "display_name": "Python 3",
   "language": "python",
   "name": "python3"
  },
  "language_info": {
   "codemirror_mode": {
    "name": "ipython",
    "version": 3
   },
   "file_extension": ".py",
   "mimetype": "text/x-python",
   "name": "python",
   "nbconvert_exporter": "python",
   "pygments_lexer": "ipython3",
   "version": "3.7.7"
  }
 },
 "nbformat": 4,
 "nbformat_minor": 2
}
